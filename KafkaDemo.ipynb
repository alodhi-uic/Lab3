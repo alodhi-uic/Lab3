{
 "cells": [
  {
   "cell_type": "markdown",
   "id": "59b2d799",
   "metadata": {},
   "source": [
    "# Kafka Demo\n",
    "\n",
    "### Connect to Kafka Broker Server \n",
    "```\n",
    "ssh -L <local_port>:localhost:<remote_port> <user>@<remote_server> -NTf\n",
    "```\n",
    "Find how to connect to Kafka server on Canvas lab 2 assignment page.\n",
    "\n",
    "### To kill connection\n",
    "```\n",
    "lsof -ti:<local_port> | xargs kill -9\n",
    "```\n",
    "\n",
    "### Setup\n",
    "```\n",
    "python -m pip install kafka-python\n",
    "```"
   ]
  },
  {
   "cell_type": "code",
   "execution_count": 3,
   "id": "560fd2bb",
   "metadata": {
    "ExecuteTime": {
     "end_time": "2024-09-03T20:53:48.295316Z",
     "start_time": "2024-09-03T20:53:48.290645Z"
    }
   },
   "outputs": [],
   "source": [
    "import os\n",
    "from datetime import datetime\n",
    "from json import dumps, loads\n",
    "from time import sleep\n",
    "from random import randint\n",
    "from kafka import KafkaConsumer, KafkaProducer\n",
    "\n",
    "# Update this for your own recitation section :)\n",
    "topic = 'topic-apoorv' # x could be b, c, d, e, f"
   ]
  },
  {
   "cell_type": "markdown",
   "id": "0eb9dd6f",
   "metadata": {},
   "source": [
    "### Producer Mode -> Writes Data to Broker"
   ]
  },
  {
   "cell_type": "code",
   "execution_count": 4,
   "id": "aa4679a1",
   "metadata": {},
   "outputs": [
    {
     "name": "stdout",
     "output_type": "stream",
     "text": [
      "Writing to Kafka Broker\n",
      "Writing: 2025-02-06 23:25:46,Mumbai,21ºC\n",
      "Writing: 2025-02-06 23:25:47,Delhi,23ºC\n",
      "Writing: 2025-02-06 23:25:48,Chicago,19ºC\n",
      "Writing: 2025-02-06 23:25:49,Chicago,19ºC\n",
      "Writing: 2025-02-06 23:25:50,Indore,31ºC\n",
      "Writing: 2025-02-06 23:25:51,Chicago,32ºC\n",
      "Writing: 2025-02-06 23:25:52,Mumbai,28ºC\n",
      "Writing: 2025-02-06 23:25:53,Chicago,26ºC\n",
      "Writing: 2025-02-06 23:25:54,Mumbai,19ºC\n",
      "Writing: 2025-02-06 23:25:55,Chicago,28ºC\n"
     ]
    }
   ],
   "source": [
    "# Create a producer to write data to kafka\n",
    "# Ref: https://kafka-python.readthedocs.io/en/master/apidoc/KafkaProducer.html\n",
    "\n",
    "# [TODO]: Replace '...' with the address of your Kafka bootstrap server\n",
    "producer = KafkaProducer(bootstrap_servers=[\"localhost:9092\"],\n",
    "                        value_serializer=lambda x: dumps(x).encode('utf-8'))\n",
    "\n",
    "# [TODO]: Add cities of your choice\n",
    "cities = [\"Delhi\",\"Mumbai\",\"Indore\",\"Chicago\",\"NY\"]\n",
    "\n",
    "# Write data via the producer\n",
    "print(\"Writing to Kafka Broker\")\n",
    "for i in range(10):\n",
    "    data = f'{datetime.now().strftime(\"%Y-%m-%d %H:%M:%S\")},{cities[randint(0,len(cities)-1)]},{randint(18, 32)}ºC'\n",
    "    print(f\"Writing: {data}\")\n",
    "    producer.send(topic=topic, value=data)\n",
    "    sleep(1)"
   ]
  },
  {
   "cell_type": "markdown",
   "id": "a45bbace",
   "metadata": {},
   "source": [
    "### Consumer Mode -> Reads Data from Broker"
   ]
  },
  {
   "cell_type": "code",
   "execution_count": null,
   "id": "a5e2f59f",
   "metadata": {},
   "outputs": [
    {
     "name": "stdout",
     "output_type": "stream",
     "text": [
      "Reading Kafka Broker\n"
     ]
    }
   ],
   "source": [
    "# Create a consumer to read data from kafka\n",
    "# Ref: https://kafka-python.readthedocs.io/en/master/apidoc/KafkaConsumer.html\n",
    "\n",
    "# [TODO]: Complete the missing ... parameters/arguments using the Kafka documentation\n",
    "consumer = KafkaConsumer(\n",
    "    'topic-apoorv',   \n",
    "    bootstrap_servers=[\"localhost:9092\"],\n",
    "    auto_offset_reset='earliest',  # Options: 'earliest', 'latest', 'none'\n",
    "    enable_auto_commit=True,\n",
    "    auto_commit_interval_ms=1000,\n",
    "    group_id='my_consumer_group',  \n",
    "    value_deserializer=lambda x: x.decode('utf-8')  # Decoding messages from bytes\n",
    ")\n",
    "\n",
    "import csv\n",
    "import os\n",
    "from json import loads\n",
    "\n",
    "print('Reading Kafka Broker')\n",
    "if not os.path.exists('kafka_log.csv'):\n",
    "    with open('kafka_log.csv', 'w', newline='') as f:\n",
    "        writer = csv.writer(f)\n",
    "        writer.writerow(['timestamp', 'city', 'temperature'])\n",
    "\n",
    "for message in consumer:\n",
    "    message_value = message.value  # Already a string\n",
    "    try:\n",
    "        timestamp, city, temperature_str = message_value.strip().split(',', 2)\n",
    "        temperature = temperature_str.split()[0].replace('degreeCelcius', '°C').replace('ºC', '°C')\n",
    "        with open('kafka_log4.csv', 'a', newline='') as f:\n",
    "            writer = csv.writer(f)\n",
    "            writer.writerow([timestamp, city, temperature])\n",
    "    except Exception as e:\n",
    "        print(f\"Error processing message: {message_value} | Error: {str(e)}\")\n",
    "print ('finished')"
   ]
  },
  {
   "cell_type": "markdown",
   "id": "38927152",
   "metadata": {},
   "source": [
    "# Use kcat!\n",
    "It's a CLI (Command Line Interface). Previously known as kafkacat\n",
    "\n",
    "\n",
    "Ref: https://docs.confluent.io/platform/current/app-development/kafkacat-usage.html"
   ]
  },
  {
   "cell_type": "code",
   "execution_count": null,
   "id": "e19b63da",
   "metadata": {},
   "outputs": [],
   "source": [
    "#kcat command: connect to local Kafka broker, specify a topic, and consume messages from the earliest offset"
   ]
  },
  {
   "cell_type": "code",
   "execution_count": null,
   "id": "b9e04c89-2d36-4246-a424-2427206fc55d",
   "metadata": {},
   "outputs": [],
   "source": []
  },
  {
   "cell_type": "code",
   "execution_count": null,
   "id": "f19b3463-5035-4df6-8d76-65b99ca4fa3c",
   "metadata": {},
   "outputs": [],
   "source": []
  }
 ],
 "metadata": {
  "kernelspec": {
   "display_name": "Python (RAI-Lab)",
   "language": "python",
   "name": "rai-lab"
  },
  "language_info": {
   "codemirror_mode": {
    "name": "ipython",
    "version": 3
   },
   "file_extension": ".py",
   "mimetype": "text/x-python",
   "name": "python",
   "nbconvert_exporter": "python",
   "pygments_lexer": "ipython3",
   "version": "3.13.0"
  }
 },
 "nbformat": 4,
 "nbformat_minor": 5
}
